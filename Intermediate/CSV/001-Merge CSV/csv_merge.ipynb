{
 "cells": [
  {
   "cell_type": "markdown",
   "metadata": {},
   "source": [
    "# CSV Merge"
   ]
  },
  {
   "cell_type": "markdown",
   "metadata": {},
   "source": [
    "Imports"
   ]
  },
  {
   "cell_type": "code",
   "execution_count": null,
   "metadata": {},
   "outputs": [],
   "source": [
    "# imports\n",
    "import collections\n",
    "# The csv module implements classes to read and write tabular data in CSV format.\n",
    "import csv"
   ]
  },
  {
   "cell_type": "markdown",
   "metadata": {},
   "source": [
    "Open and setup first .csv file"
   ]
  },
  {
   "cell_type": "code",
   "execution_count": null,
   "metadata": {},
   "outputs": [],
   "source": [
    "with open('customers.csv', 'r') as infile:\n",
    "    # csv.reader object returns list of strings\n",
    "    obj = csv.reader(infile)\n",
    "    header_a = next(obj)\n",
    "    dict_a = {row[0]: row[1:] for row in obj}"
   ]
  },
  {
   "cell_type": "markdown",
   "metadata": {},
   "source": [
    "Open and prepare second .csv file"
   ]
  },
  {
   "cell_type": "code",
   "execution_count": null,
   "metadata": {},
   "outputs": [],
   "source": [
    "with open('orders.csv', 'r') as infile:\n",
    "    obj = csv.reader(infile)\n",
    "    header_b = next(obj)\n",
    "    dict_b = collections.defaultdict(list)\n",
    "    # dict2 = {row[0]: row[1:] for row in r}\n",
    "    for row in obj:\n",
    "        dict_b[row[0]].append(row[1:])"
   ]
  },
  {
   "cell_type": "markdown",
   "metadata": {},
   "source": [
    "Create a new file, find matching keys, write to file"
   ]
  },
  {
   "cell_type": "code",
   "execution_count": null,
   "metadata": {},
   "outputs": [],
   "source": [
    "with open('newfile.csv', 'w') as newfile:\n",
    "    # Create new .csv file\n",
    "    w = csv.writer(newfile)\n",
    "    # Print header, remove duplicate key\n",
    "    # Assumption: First column header is key for both file a and b\n",
    "    w.writerow(header_a + header_b[1:])\n",
    "\n",
    "    for i_a in dict_a.keys():\n",
    "        # The get() method returns the value for the specified key if the key is in the dictionary.\n",
    "        # Parameter Values: Keyname, Optional value to return if key does not exist\n",
    "        for i_b in dict_b.get(i_a, [[]]):\n",
    "            w.writerow([i_a] + dict_a[i_a] + i_b)"
   ]
  },
  {
   "cell_type": "markdown",
   "metadata": {},
   "source": [
    "# Pandas Example"
   ]
  },
  {
   "cell_type": "code",
   "execution_count": null,
   "metadata": {},
   "outputs": [],
   "source": [
    "import pandas as pd\n",
    "customers_df = pd.read_csv('customers.csv')\n",
    "orders_df = pd.read_csv('orders.csv')\n",
    "customer_sales_df = pd.merge(customers_df, orders_df, how='inner', on='customer_id')\n",
    "customer_sales_df.to_csv('sales.csv',index=False)"
   ]
  },
  {
   "cell_type": "markdown",
   "metadata": {},
   "source": [
    "### References\n",
    "- https://docs.python.org/3/library/functions.html#open\n",
    "- https://docs.python.org/3/library/collections.html#collections.defaultdict\n",
    "- https://www.w3schools.com/python/ref_dictionary_get.asp\n",
    "- https://pandas.pydata.org/docs/reference/api/pandas.merge.html"
   ]
  }
 ],
 "metadata": {
  "interpreter": {
   "hash": "aee8b7b246df8f9039afb4144a1f6fd8d2ca17a180786b69acc140d282b71a49"
  },
  "kernelspec": {
   "display_name": "Python 3.9.5 64-bit",
   "language": "python",
   "name": "python3"
  },
  "language_info": {
   "codemirror_mode": {
    "name": "ipython",
    "version": 3
   },
   "file_extension": ".py",
   "mimetype": "text/x-python",
   "name": "python",
   "nbconvert_exporter": "python",
   "pygments_lexer": "ipython3",
   "version": "3.9.5"
  },
  "orig_nbformat": 4
 },
 "nbformat": 4,
 "nbformat_minor": 2
}
